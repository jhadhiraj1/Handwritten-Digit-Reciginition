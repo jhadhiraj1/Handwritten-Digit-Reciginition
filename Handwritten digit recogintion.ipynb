{
 "cells": [
  {
   "cell_type": "code",
   "execution_count": 9,
   "metadata": {},
   "outputs": [
    {
     "data": {
      "text/plain": [
       "<Figure size 432x288 with 0 Axes>"
      ]
     },
     "metadata": {},
     "output_type": "display_data"
    },
    {
     "data": {
      "image/png": "[encoded data removed]",
      "text/plain": [
       "<Figure size 288x288 with 1 Axes>"
      ]
     },
     "metadata": {
      "needs_background": "light"
     },
     "output_type": "display_data"
    }
   ],
   "source": [
    "import numpy as np\n",
    "from sklearn.datasets import load_digits\n",
    "from sklearn import svm\n",
    "import matplotlib.pyplot as plt\n",
    "digits=load_digits()\n",
    "\n",
    "plt.gray()\n",
    "plt.matshow(digits.images[20])\n",
    "plt.show()"
   ]
  },
  {
   "cell_type": "code",
   "execution_count": 12,
   "metadata": {},
   "outputs": [
    {
     "name": "stdout",
     "output_type": "stream",
     "text": [
      "[[ 0.  0.  3. 13. 11.  7.  0.  0.]\n",
      " [ 0.  0. 11. 16. 16. 16.  2.  0.]\n",
      " [ 0.  4. 16.  9.  1. 14.  2.  0.]\n",
      " [ 0.  4. 16.  0.  0. 16.  2.  0.]\n",
      " [ 0.  0. 16.  1.  0. 12.  8.  0.]\n",
      " [ 0.  0. 15.  9.  0. 13.  6.  0.]\n",
      " [ 0.  0.  9. 14.  9. 14.  1.  0.]\n",
      " [ 0.  0.  2. 12. 13.  4.  0.  0.]]\n"
     ]
    }
   ],
   "source": [
    "print(digits.images[20])"
   ]
  },
  {
   "cell_type": "code",
   "execution_count": 13,
   "metadata": {},
   "outputs": [
    {
     "name": "stdout",
     "output_type": "stream",
     "text": [
      "[0]\n"
     ]
    }
   ],
   "source": [
    "model=svm.SVC()\n",
    "model.fit(digits.data[:-1],digits.target[:-1])\n",
    "prediction=model.predict(digits.data[20:21])\n",
    "print(prediction)"
   ]
  }
 ],
 "metadata": {
  "kernelspec": {
   "display_name": "Python 3",
   "language": "python",
   "name": "python3"
  },
  "language_info": {
   "codemirror_mode": {
    "name": "ipython",
    "version": 3
   },
   "file_extension": ".py",
   "mimetype": "text/x-python",
   "name": "python",
   "nbconvert_exporter": "python",
   "pygments_lexer": "ipython3",
   "version": "3.7.7"
  }
 },
 "nbformat": 4,
 "nbformat_minor": 4
}
